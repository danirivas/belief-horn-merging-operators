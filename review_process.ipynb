{
  "cells": [
    {
      "cell_type": "markdown",
      "metadata": {
        "id": "bi5TfDfi5fsz"
      },
      "source": [
        "# Interactive Review Process Example\n",
        "\n",
        "Authors: Costa, Dellunde, and Rivas-Barragan, 2022\n",
        "\n",
        "Example XX of the article submitted to Fuzzy sets and systems by Costa and Dellunde (December, 2022).\n",
        "Note that this program allows modifying the example by changing the evaluation of the reviewers, the general chair constraint, the method for evaluating the submitted papers or the number of papers submitted.\n",
        "\n",
        "### How to run the code\n",
        "lorem ipsum\n",
        "\n",
        "#### Preconditions:"
      ]
    },
    {
      "cell_type": "markdown",
      "metadata": {
        "id": "qm78cQ0buP_i"
      },
      "source": [
        "## Example\n",
        "\n",
        "### decisions.txt\n",
        "```\n",
        "reject\n",
        "borderline\n",
        "regular\n",
        "accepted\n",
        "```\n",
        "\n",
        "### reviews.txt\n",
        "```csv\n",
        "reviewer,paper,decision\n",
        "1, 1, regular\n",
        "1, 2, reject-borderline\n",
        "2, 1, reject-borderline-regular\n",
        "2, 2, regular-accepted\n",
        "3, 3, accepted\n",
        "3, 4, borderline\n",
        "4, 3, regular-accepted\n",
        "4, 4, borderline\n",
        "```"
      ]
    },
    {
      "cell_type": "code",
      "source": [
        "#@title 0. Generate example\n",
        "decisions_txt = f\"\"\"\\\n",
        "reject\n",
        "borderline\n",
        "regular\n",
        "accepted\\\n",
        "\"\"\"\n",
        "with open(\"decisions.txt\", 'w') as f:\n",
        "  f.write(decisions_txt)\n",
        "\n",
        "reviews_txt = f\"\"\"\\\n",
        "reviewer,paper,decision\n",
        "1, 1, regular\n",
        "1, 2, reject-borderline\n",
        "2, 1, reject-borderline-regular\n",
        "2, 2, regular-accepted\n",
        "3, 3, accepted\n",
        "3, 4, borderline\n",
        "4, 3, regular-accepted\n",
        "4, 4, borderline\\\n",
        "\"\"\"\n",
        "\n",
        "with open(\"reviews.txt\", 'w') as f:\n",
        "  f.write(reviews_txt)"
      ],
      "metadata": {
        "cellView": "form",
        "id": "mmUUX6RsPtPy"
      },
      "execution_count": 63,
      "outputs": []
    },
    {
      "cell_type": "code",
      "execution_count": 65,
      "metadata": {
        "id": "AwY6AFfIuvPl",
        "colab": {
          "base_uri": "https://localhost:8080/"
        },
        "cellView": "form",
        "outputId": "d882e2bd-7a9e-4bdd-9ee9-3837d709b5a3"
      },
      "outputs": [
        {
          "output_type": "stream",
          "name": "stdout",
          "text": [
            "Decision      Score\n",
            "----------  -------\n",
            "reject        0\n",
            "borderline    0.333\n",
            "regular       0.667\n",
            "accepted      1\n"
          ]
        }
      ],
      "source": [
        "#@title 1. Read decisions' list and reviews\n",
        "from tabulate import tabulate\n",
        "\n",
        "def read_decisions(): # -> dict[str, float]:\n",
        "  with open(\"decisions.txt\") as f:\n",
        "    decisions = f.read().splitlines()\n",
        "\n",
        "  decision2score = {\n",
        "      decision: round(i/(len(decisions)-1), 3) for i, decision in enumerate(decisions)\n",
        "  }\n",
        "  return decision2score\n",
        "\n",
        "decision2score = read_decisions()\n",
        "N = [score for score in decision2score.values()]\n",
        "\n",
        "print(tabulate({\n",
        "    \"Decision\": [d for d in decision2score.keys()],\n",
        "    \"Score\": [s for s in decision2score.values()],\n",
        "}, headers=\"keys\"))"
      ]
    },
    {
      "cell_type": "code",
      "execution_count": 66,
      "metadata": {
        "id": "suUFYS4uy8RA",
        "colab": {
          "base_uri": "https://localhost:8080/"
        },
        "cellView": "form",
        "outputId": "c3b1c7c8-8211-4617-a4f2-aeb907aacf84"
      },
      "outputs": [
        {
          "output_type": "stream",
          "name": "stdout",
          "text": [
            "  reviewer    paper  decision                   srh                  cs\n",
            "----------  -------  -------------------------  -------------------  ----------------------\n",
            "         1        1  regular                    ↑0.667:p₁,↓0.667:p₁  r↑0.667:p₁,¬r↑1.0:p₁\n",
            "         1        2  reject-borderline          ↓0.333:p₂            ¬r↑0.667:p₂\n",
            "         2        1  reject-borderline-regular  ↓0.667:p₁            ¬r↑1.0:p₁\n",
            "         2        2  regular-accepted           ↑0.667:p₂            r↑0.667:p₂\n",
            "         3        3  accepted                   ↑1.0:p₃              r↑1.0:p₃\n",
            "         3        4  borderline                 ↑0.333:p₄,↓0.333:p₄  r↑0.333:p₄,¬r↑0.667:p₄\n",
            "         4        3  regular-accepted           ↑0.667:p₃            r↑0.667:p₃\n",
            "         4        4  borderline                 ↑0.333:p₄,↓0.333:p₄  r↑0.333:p₄,¬r↑0.667:p₄\n"
          ]
        }
      ],
      "source": [
        "#@title 2. Translation\n",
        "import pandas as pd\n",
        "\n",
        "arrow = {\n",
        "  \"up\": \"\\u2191\",\n",
        "  \"down\": \"\\u2193\",\n",
        "  \"neg\": \"\\u00AC\",\n",
        "  \"V\": \"V\",\n",
        "}\n",
        "\n",
        "def get_srh(review, decision2score):\n",
        "  decisions = review[\"decision\"].replace(' ', '').split('-')\n",
        "\n",
        "  scores = [decision2score[decision] for decision in decisions]\n",
        "\n",
        "  srh = []\n",
        "  for score in scores:\n",
        "    id = chr(int(f\"0x208{review['paper']}\", base=16))\n",
        "    if score == min(scores) and score != 0:\n",
        "      _arrow = arrow['up']\n",
        "      srh.append(f\"{_arrow}{score}:p{id}\")\n",
        "    if score == max(scores) and score != 1:\n",
        "      _arrow = arrow['down']\n",
        "      srh.append(f\"{_arrow}{score}:p{id}\")\n",
        "\n",
        "  return ','.join(srh)\n",
        "\n",
        "\n",
        "def get_classical_literal(decision_srh, decision2score):\n",
        "  scores = sorted([s for s in decision2score.values()])\n",
        "\n",
        "  cs = []\n",
        "  for srh in decision_srh.split(','):\n",
        "    direction = srh[0]\n",
        "\n",
        "    id = srh[-2:]\n",
        "    if direction == arrow['up']:\n",
        "      cs.append(f\"r{srh}\")\n",
        "    else:\n",
        "      score = float(srh.split(':')[0][1:])\n",
        "      next_score = scores[scores.index(score)+1]\n",
        "      cs.append(f\"{arrow['neg']}r{arrow['up']}{next_score}:{id}\")\n",
        "\n",
        "  return ','.join(cs)\n",
        "\n",
        "\n",
        "def process_reviews(decision2score):\n",
        "  reviews = pd.read_csv(\"reviews.txt\")\n",
        "  reviews['srh'] = reviews.apply(lambda x: get_srh(x, decision2score), axis=1)\n",
        "  reviews['cs'] = reviews['srh'].apply(lambda x: get_classical_literal(x, decision2score))\n",
        "  return reviews\n",
        "\n",
        "reviews = process_reviews(read_decisions())\n",
        "print(tabulate(reviews, headers=\"keys\", showindex=False))"
      ]
    },
    {
      "cell_type": "code",
      "execution_count": 84,
      "metadata": {
        "id": "Z1YqxFOVISQH",
        "colab": {
          "base_uri": "https://localhost:8080/"
        },
        "cellView": "form",
        "outputId": "b46fa1cc-1605-4537-f7ff-55dff407b306"
      },
      "outputs": [
        {
          "output_type": "stream",
          "name": "stdout",
          "text": [
            "K1                    K2          K3                      K4\n",
            "--------------------  ----------  ----------------------  ----------------------\n",
            "r↑0.667:p₁,¬r↑1.0:p₁  ¬r↑1.0:p₁   r↑1.0:p₃                r↑0.667:p₃\n",
            "¬r↑0.667:p₂           r↑0.667:p₂  r↑0.333:p₄,¬r↑0.667:p₄  r↑0.333:p₄,¬r↑0.667:p₄\n"
          ]
        }
      ],
      "source": [
        "#@title 3. Knowledge Base\n",
        "knowledge_base = {}\n",
        "for reviewer_id in reviews[\"reviewer\"].unique():\n",
        "  knowledge_base[f\"K{reviewer_id}\"] = reviews[reviews[\"reviewer\"] == reviewer_id][\"cs\"].values.tolist()\n",
        "print(tabulate(knowledge_base, headers=\"keys\"))"
      ]
    },
    {
      "cell_type": "code",
      "execution_count": 87,
      "metadata": {
        "id": "gzbVCzZjJbHo",
        "colab": {
          "base_uri": "https://localhost:8080/"
        },
        "cellView": "form",
        "outputId": "768442c1-8419-4b48-e79f-10f5a255c84c"
      },
      "outputs": [
        {
          "output_type": "stream",
          "name": "stdout",
          "text": [
            "Cada revisor ha d'avaluar, com a mímin, un article com a `accepted` o `regular`\n",
            "\n",
            "Constraints\n",
            "-------------------\n",
            "↑0.667:p₁V↑0.667:p₂\n",
            "↑0.667:p₃V↑0.667:p₄\n",
            "\n",
            "\n",
            "Classical literal form: r↑0.667:p₁Vr↑0.667:p₂Vr↑0.667:p₃Vr↑0.667:p₄\n"
          ]
        }
      ],
      "source": [
        "#@title 4. Encode constraints\n",
        "constraints = []\n",
        "paper_ids = reviews[\"paper\"].unique()\n",
        "\n",
        "for p1, p2 in zip(paper_ids[::2], paper_ids[1::2]):\n",
        "  p_id1 = chr(int(f\"0x208{p1}\", base=16))\n",
        "  p_id2 = chr(int(f\"0x208{p2}\", base=16))\n",
        "  constraints.append(f\"{arrow['up']}0.667:p{p_id1}{arrow['V']}{arrow['up']}0.667:p{p_id2}\")\n",
        "\n",
        "print(\"Cada revisor ha d'avaluar, com a mímin, un article com a `accepted` o `regular`\\n\")\n",
        "print(tabulate({\"Constraints\": constraints}, headers=\"keys\"))\n",
        "\n",
        "tmp = ','.join(constraints).replace('V', ',')\n",
        "literal = get_classical_literal(tmp, decision2score).replace(',', 'V')\n",
        "print(\"\\n\")\n",
        "print(f\"Classical literal form: {literal}\")"
      ]
    },
    {
      "cell_type": "code",
      "execution_count": 83,
      "metadata": {
        "id": "uTcSj93TMOG-",
        "colab": {
          "base_uri": "https://localhost:8080/"
        },
        "cellView": "form",
        "outputId": "bfb01b47-6fb3-43c3-a03f-4dabcc302c58"
      },
      "outputs": [
        {
          "output_type": "stream",
          "name": "stdout",
          "text": [
            "(¬r↑0.667:p₁Vr↑0.333:p₁) & (¬r↑1.0:p₁Vr↑0.333:p₁) & (¬r↑1.0:p₁Vr↑0.667:p₁) & (¬r↑0.667:p₂Vr↑0.333:p₂) & (¬r↑1.0:p₂Vr↑0.333:p₂) & (¬r↑1.0:p₂Vr↑0.667:p₂)\n",
            "(¬r↑0.667:p₃Vr↑0.333:p₃) & (¬r↑1.0:p₃Vr↑0.333:p₃) & (¬r↑1.0:p₃Vr↑0.667:p₃) & (¬r↑0.667:p₄Vr↑0.333:p₄) & (¬r↑1.0:p₄Vr↑0.333:p₄) & (¬r↑1.0:p₄Vr↑0.667:p₄)\n"
          ]
        }
      ],
      "source": [
        "#@title 6. Generate D (whatever that might be)\n",
        "\n",
        "import itertools as itt\n",
        "\n",
        "def generate_D():\n",
        "  N_ = [n for n in N if n > 0]\n",
        "  # P =\n",
        "\n",
        "  D = []\n",
        "  for p in reviews[\"paper\"].unique():\n",
        "    D_ = []\n",
        "    for j, k in itt.combinations(N_, r=2):\n",
        "      p_id = chr(int(f\"0x208{p}\", base=16))\n",
        "      d = f\"{arrow['neg']}r{arrow['up']}{k}:p{p_id}{arrow['V']}r{arrow['up']}{j}:p{p_id}\"\n",
        "      D_.append(d)\n",
        "    if p % 2 == 1:\n",
        "      D.append(D_)\n",
        "    else:\n",
        "      D[p//2-1].extend(D_)\n",
        "  return D\n",
        "\n",
        "def print_D(D):\n",
        "  for formula in D:\n",
        "    for clause in formula[:-1]:\n",
        "      print(f\"({clause})\", end=' & ')\n",
        "    print(f\"({formula[-1]})\")\n",
        "\n",
        "D = generate_D()\n",
        "print_D(D)"
      ]
    },
    {
      "cell_type": "code",
      "execution_count": 89,
      "metadata": {
        "id": "ie_jrhmnUoa5",
        "colab": {
          "base_uri": "https://localhost:8080/"
        },
        "cellView": "form",
        "outputId": "56673746-1175-4c78-b7f0-838cf3b22ba0"
      },
      "outputs": [
        {
          "output_type": "stream",
          "name": "stdout",
          "text": [
            "-  -  -  -  -  -\n",
            "0  1  *  *  0  *\n",
            "0  *  *  *  1  *\n",
            "1  *  *  *  0  1\n",
            "*  1  *  *  0  1\n",
            "-  -  -  -  -  -\n"
          ]
        }
      ],
      "source": [
        "#@title 7. Find models of K*\n",
        "scores = [s for s in reversed([s for s in decision2score.values()][1:])]\n",
        "paper_ids = reviews[\"paper\"].unique()\n",
        "\n",
        "vars = []\n",
        "for p in paper_ids:\n",
        "  p_id = chr(int(f\"0x208{p}\", base=16))\n",
        "  vars_ = [\n",
        "    f\"r{arrow['up']}{score}:p{p_id}\" for score in scores\n",
        "  ]\n",
        "  if p % 2 == 1:\n",
        "    vars.append(vars_)\n",
        "  else:\n",
        "    vars[p//2-1].extend(vars_)\n",
        "\n",
        "# si no apareix la variable, qualsevol valor.\n",
        "# si apareix en positiu, 1\n",
        "# si apareix en negatiu, 0\n",
        "\n",
        "models = []\n",
        "for K, K_clauses in knowledge_base.items():\n",
        "  K_vars = vars[int((int(K[1])-1)/2)] # + vars[int((int(K[1]))/2)]\n",
        "  models.append([])\n",
        "  K_clauses_expanded = []\n",
        "  for clause in K_clauses:\n",
        "    K_clauses_expanded.extend(clause.split(','))\n",
        "\n",
        "  for i, v in enumerate(K_vars):\n",
        "    if v in K_clauses_expanded:\n",
        "      # print(f\"{v} in {K_clauses_expanded}\")\n",
        "      models[-1].append(1)\n",
        "    elif f\"{arrow['neg']}{v}\" in K_clauses_expanded:\n",
        "      # print(f\"{arrow['neg']}{v} in {K_clauses_expanded}\")\n",
        "      models[-1].append(0)\n",
        "    else:\n",
        "      # print(f\"{v} NOT in {K_clauses_expanded}\")\n",
        "      # print(f\"{arrow['neg']}{v} NOT in {K_clauses_expanded}\")\n",
        "      models[-1].append('*')\n",
        "\n",
        "print(tabulate(models))"
      ]
    },
    {
      "cell_type": "markdown",
      "source": [
        "# Step 8: Find models of D & constraint"
      ],
      "metadata": {
        "id": "0i3ob4aCGOta"
      }
    },
    {
      "cell_type": "code",
      "source": [
        "# Models of D[0] and constraints[0]\n",
        "# Models of D[1] and constraints[1]\n",
        "\n",
        "print(D[0])\n",
        "print(constraints[0])"
      ],
      "metadata": {
        "colab": {
          "base_uri": "https://localhost:8080/"
        },
        "id": "Y42Gw12CGVui",
        "outputId": "4fd54ee2-1308-483c-b279-65eb1ef66bc1"
      },
      "execution_count": 25,
      "outputs": [
        {
          "output_type": "stream",
          "name": "stdout",
          "text": [
            "['¬r↑0.667:p₁Vr↑0.333:p₁', '¬r↑1.0:p₁Vr↑0.333:p₁', '¬r↑1.0:p₁Vr↑0.667:p₁', '¬r↑0.667:p₂Vr↑0.333:p₂', '¬r↑1.0:p₂Vr↑0.333:p₂', '¬r↑1.0:p₂Vr↑0.667:p₂']\n",
            "↑0.667:p₁V↑0.667:p₂\n"
          ]
        }
      ]
    },
    {
      "cell_type": "markdown",
      "source": [
        "# Step 9: Find intersection of models in Steps 7 & 8"
      ],
      "metadata": {
        "id": "1B09or4gGWJM"
      }
    }
  ],
  "metadata": {
    "colab": {
      "provenance": []
    },
    "kernelspec": {
      "display_name": "Python 3",
      "language": "python",
      "name": "python3"
    },
    "language_info": {
      "codemirror_mode": {
        "name": "ipython",
        "version": 3
      },
      "file_extension": ".py",
      "mimetype": "text/x-python",
      "name": "python",
      "nbconvert_exporter": "python",
      "pygments_lexer": "ipython3",
      "version": "3.8.5"
    }
  },
  "nbformat": 4,
  "nbformat_minor": 0
}